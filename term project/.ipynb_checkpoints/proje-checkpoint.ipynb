{
 "cells": [
  {
   "cell_type": "code",
   "execution_count": 1,
   "id": "690c6138",
   "metadata": {},
   "outputs": [],
   "source": [
    "import pandas as pd\n",
    "import numpy as np\n",
    "import matplotlib.pyplot as plt\n",
    "import statsmodels.api as sm\n",
    "from sklearn.linear_model import Ridge, RidgeCV, Lasso, LassoCV\n",
    "import warnings\n",
    "warnings.filterwarnings(\"ignore\")\n",
    "plt.style.use('ggplot')"
   ]
  },
  {
   "cell_type": "code",
   "execution_count": 2,
   "id": "c3f3ed81",
   "metadata": {},
   "outputs": [],
   "source": [
    "covid = pd.read_csv(\"owid-covid-data.csv\")\n",
    "germany = covid[covid['location'] == 'Germany']\n",
    "start_date = '2021-10-01'\n",
    "end_date = '2022-05-01'\n",
    "germany = germany[(germany.date >= start_date) & (germany.date < end_date)]\n",
    "N = len(germany)\n",
    "T = 1\n",
    "date = np.stack([germany.date.iloc[T*i+T-1] for i in range(int(N/T))])\n"
   ]
  },
  {
   "cell_type": "code",
   "execution_count": 3,
   "id": "a90e0136",
   "metadata": {},
   "outputs": [],
   "source": [
    "hosp_admission = np.stack([np.mean(germany.weekly_hosp_admissions_per_million.iloc[T*i:T*(i+1)]) for i in range(int(N/T))])\n",
    "cases = np.stack([np.mean(germany.new_cases_smoothed_per_million.iloc[T*i:T*(i+1)]) for i in range(int(N/T))])\n",
    "str_index = np.stack([np.mean(germany.stringency_index.iloc[T*i:T*(i+1)]) for i in range(int(N/T))])\n",
    "rt = np.stack([np.mean(germany.reproduction_rate.iloc[T*i:T*(i+1)]) for i in range(int(N/T))])\n",
    "pos_rate = np.stack([np.mean(germany.positive_rate.iloc[T*i:T*(i+1)]) for i in range(int(N/T))])\n",
    "total_vac = np.stack([np.mean(germany.people_fully_vaccinated_per_hundred.iloc[T*i:T*(i+1)]) for i in range(int(N/T))])\n",
    "booster = np.stack([np.mean(germany.total_boosters_per_hundred.iloc[T*i:T*(i+1)]) for i in range(int(N/T))])\n",
    "\n",
    "two_week_cases = np.zeros(int(N/T))\n",
    "for i in range(int(14/T),int(N/T)):\n",
    "    two_week_cases[i] = cases[i-int(14/T)]\n",
    "\n",
    "two_week_str_index = np.zeros(int(N/T))\n",
    "for i in range(int(14/T),int(N/T)):\n",
    "    two_week_str_index[i] = str_index[i-int(14/T)]"
   ]
  },
  {
   "cell_type": "code",
   "execution_count": 4,
   "id": "564088c5",
   "metadata": {},
   "outputs": [],
   "source": [
    "winter = np.zeros(int(N/T)).astype(int)\n",
    "spring = np.zeros(int(N/T)).astype(int)\n",
    "summer = np.zeros(int(N/T)).astype(int)\n",
    "fall = np.zeros(int(N/T)).astype(int)\n",
    "\n",
    "for i in range(len(date)):\n",
    "    if date[i][5:7] in ['01', '02', '03']:\n",
    "        winter[i] = 1\n",
    "    elif date[i][5:7] in ['04', '05', '06']:\n",
    "        spring[i] = 1\n",
    "    elif date[i][5:7] in ['07', '08', '09']:\n",
    "        summer[i] = 1\n",
    "    else:\n",
    "        fall[i] = 1"
   ]
  },
  {
   "cell_type": "code",
   "execution_count": 5,
   "id": "cce58b9c",
   "metadata": {},
   "outputs": [],
   "source": [
    "new_germany = pd.DataFrame()\n",
    "new_germany['date'] = date\n",
    "new_germany['hosp_admission'] = hosp_admission\n",
    "new_germany['t'] = [i+1 for i in range(int(N/T))]\n",
    "#new_germany = sm.add_constant(new_germany,prepend=False)\n",
    "new_germany['cases'] = cases\n",
    "new_germany.cases = new_germany.cases.fillna(method='backfill')\n",
    "new_germany['two_week_cases'] = two_week_cases\n",
    "new_germany.two_week_cases = new_germany.two_week_cases.fillna(method='backfill')\n",
    "new_germany['log_two_week_cases'] = np.log(two_week_cases)\n",
    "new_germany.log_two_week_cases = new_germany.log_two_week_cases.fillna(method='backfill')\n",
    "new_germany['str_index'] = str_index\n",
    "new_germany['two_week_str_index'] = two_week_str_index\n",
    "new_germany['rt'] = rt\n",
    "#new_germany['pos_rate'] = pos_rate\n",
    "new_germany['total_vac'] = total_vac\n",
    "new_germany['total_vac'] = new_germany['total_vac'].fillna(0)\n",
    "new_germany['booster'] = booster\n",
    "new_germany['winter'] = winter\n",
    "new_germany['fall'] = fall\n",
    "new_germany['summer'] = summer\n",
    "new_germany['spring'] = spring"
   ]
  },
  {
   "cell_type": "code",
   "execution_count": 6,
   "id": "95720d57",
   "metadata": {},
   "outputs": [],
   "source": [
    "mobility_2021 = pd.read_csv(\"2021_DE_Region_Mobility_Report.csv\")\n",
    "mobility_2021 = mobility_2021[mobility_2021.date >= start_date]\n",
    "dates_2021 = sorted(list(set(mobility_2021.date)))\n",
    "mobility_2021 = mobility_2021.iloc[:len(dates_2021),:]\n",
    "mobility_2022 = pd.read_csv(\"2022_DE_Region_Mobility_Report.csv\")\n",
    "mobility_2022 = mobility_2022[mobility_2022.date < end_date]\n",
    "dates_2022 = sorted(list(set(mobility_2022.date)))\n",
    "mobility_2022 = mobility_2022.iloc[:len(dates_2022),:]\n"
   ]
  },
  {
   "cell_type": "code",
   "execution_count": 7,
   "id": "0f8b42c8",
   "metadata": {},
   "outputs": [],
   "source": [
    "retail_and_recreation = []\n",
    "grocery_and_pharmacy = []\n",
    "parks = []\n",
    "workplaces = []\n",
    "residential = []\n",
    "transit = []\n",
    "for date in dates_2021:\n",
    "    retail_and_recreation.append(int(mobility_2021[mobility_2021.date == date].retail_and_recreation_percent_change_from_baseline))\n",
    "    grocery_and_pharmacy.append(int(mobility_2021[mobility_2021.date == date].grocery_and_pharmacy_percent_change_from_baseline))\n",
    "    parks.append(int(mobility_2021[mobility_2021.date == date].parks_percent_change_from_baseline))\n",
    "    workplaces.append(int(mobility_2021[mobility_2021.date == date].workplaces_percent_change_from_baseline))\n",
    "    residential.append(int(mobility_2021[mobility_2021.date == date].residential_percent_change_from_baseline))\n",
    "    transit.append(int(mobility_2021[mobility_2021.date == date].transit_stations_percent_change_from_baseline))"
   ]
  },
  {
   "cell_type": "code",
   "execution_count": 8,
   "id": "b8308a19",
   "metadata": {},
   "outputs": [],
   "source": [
    "for date in dates_2022:\n",
    "    retail_and_recreation.append(int(mobility_2022[mobility_2022.date == date].retail_and_recreation_percent_change_from_baseline))\n",
    "    grocery_and_pharmacy.append(int(mobility_2022[mobility_2022.date == date].grocery_and_pharmacy_percent_change_from_baseline))\n",
    "    parks.append(int(mobility_2022[mobility_2022.date == date].parks_percent_change_from_baseline))\n",
    "    workplaces.append(int(mobility_2022[mobility_2022.date == date].workplaces_percent_change_from_baseline))\n",
    "    residential.append(int(mobility_2022[mobility_2022.date == date].residential_percent_change_from_baseline))\n",
    "    transit.append(int(mobility_2022[mobility_2022.date == date].transit_stations_percent_change_from_baseline))"
   ]
  },
  {
   "cell_type": "code",
   "execution_count": 9,
   "id": "514a84bb",
   "metadata": {},
   "outputs": [],
   "source": [
    "two_week_retail_rec = np.zeros(int(N/T))\n",
    "for i in range(int(14/T),int(N/T)):\n",
    "    two_week_retail_rec[i] = np.mean(retail_and_recreation[i-int(14/T):i])\n",
    "\n",
    "two_week_grocery_pharmacy = np.zeros(int(N/T))\n",
    "for i in range(int(14/T),int(N/T)):\n",
    "    two_week_grocery_pharmacy[i] = np.mean(grocery_and_pharmacy[i-int(14/T):])\n",
    "\n",
    "two_week_parks = np.zeros(int(N/T))\n",
    "for i in range(int(14/T),int(N/T)):\n",
    "    two_week_parks[i] = np.mean(parks[i-int(14/T):i])\n",
    "    \n",
    "two_week_workplaces = np.zeros(int(N/T))\n",
    "for i in range(int(14/T),int(N/T)):\n",
    "    two_week_workplaces[i] = np.mean(workplaces[i-int(14/T):i])\n",
    "\n",
    "two_week_residential = np.zeros(int(N/T))\n",
    "for i in range(int(14/T),int(N/T)):\n",
    "    two_week_residential[i] = np.mean(residential[i-int(14/T):i])\n",
    "    \n",
    "two_week_transit = np.zeros(int(N/T))\n",
    "for i in range(int(14/T),int(N/T)):\n",
    "    two_week_transit[i] = np.mean(transit[i-int(14/T):i])"
   ]
  },
  {
   "cell_type": "code",
   "execution_count": 10,
   "id": "6456f27c",
   "metadata": {},
   "outputs": [],
   "source": [
    "#new_germany['retail_rec'] = retail_and_recreation\n",
    "#new_germany['grocery_pharmacy'] = grocery_and_pharmacy\n",
    "#new_germany['parks'] = parks\n",
    "#new_germany['workplaces'] = workplaces\n",
    "#new_germany['residential'] = residential\n",
    "#new_germany['transit'] = transit\n",
    "new_germany['two_week_retail_rec'] = two_week_retail_rec\n",
    "new_germany['two_week_grocery_pharmacy'] = two_week_grocery_pharmacy\n",
    "new_germany['two_week_parks'] = two_week_parks\n",
    "new_germany['two_week_workplaces'] = two_week_workplaces\n",
    "new_germany['two_week_residential'] = two_week_residential\n",
    "new_germany['two_week_transit'] = two_week_transit"
   ]
  },
  {
   "cell_type": "code",
   "execution_count": 11,
   "id": "c4359a7d",
   "metadata": {},
   "outputs": [],
   "source": [
    "def MAE(sales, forecast):\n",
    "    error = sales - forecast\n",
    "    return np.mean(np.abs(error))\n",
    "def MAPE(sales, forecast):\n",
    "    error = sales - forecast\n",
    "    return np.mean(np.abs(error / sales))\n",
    "def RMSE(sales, forecast):\n",
    "    error = sales - forecast\n",
    "    return np.sqrt(np.mean(np.square(error)))"
   ]
  },
  {
   "cell_type": "code",
   "execution_count": 12,
   "id": "3e3095c9",
   "metadata": {},
   "outputs": [],
   "source": [
    "training_set = new_germany.iloc[int(14/T):int(0.7*N/T)]\n",
    "test_set = new_germany.iloc[int(0.7*N/T):]"
   ]
  },
  {
   "cell_type": "code",
   "execution_count": 13,
   "id": "524cefbf",
   "metadata": {},
   "outputs": [
    {
     "data": {
      "text/html": [
       "<table class=\"simpletable\">\n",
       "<caption>OLS Regression Results</caption>\n",
       "<tr>\n",
       "  <th>Dep. Variable:</th>     <td>hosp_admission</td>  <th>  R-squared:         </th> <td>   0.955</td>\n",
       "</tr>\n",
       "<tr>\n",
       "  <th>Model:</th>                   <td>OLS</td>       <th>  Adj. R-squared:    </th> <td>   0.952</td>\n",
       "</tr>\n",
       "<tr>\n",
       "  <th>Method:</th>             <td>Least Squares</td>  <th>  F-statistic:       </th> <td>   444.7</td>\n",
       "</tr>\n",
       "<tr>\n",
       "  <th>Date:</th>             <td>Mon, 23 May 2022</td> <th>  Prob (F-statistic):</th> <td>1.07e-82</td>\n",
       "</tr>\n",
       "<tr>\n",
       "  <th>Time:</th>                 <td>01:03:38</td>     <th>  Log-Likelihood:    </th> <td> -429.57</td>\n",
       "</tr>\n",
       "<tr>\n",
       "  <th>No. Observations:</th>      <td>   134</td>      <th>  AIC:               </th> <td>   873.1</td>\n",
       "</tr>\n",
       "<tr>\n",
       "  <th>Df Residuals:</th>          <td>   127</td>      <th>  BIC:               </th> <td>   893.4</td>\n",
       "</tr>\n",
       "<tr>\n",
       "  <th>Df Model:</th>              <td>     6</td>      <th>                     </th>     <td> </td>   \n",
       "</tr>\n",
       "<tr>\n",
       "  <th>Covariance Type:</th>      <td>nonrobust</td>    <th>                     </th>     <td> </td>   \n",
       "</tr>\n",
       "</table>\n",
       "<table class=\"simpletable\">\n",
       "<tr>\n",
       "               <td></td>                  <th>coef</th>     <th>std err</th>      <th>t</th>      <th>P>|t|</th>  <th>[0.025</th>    <th>0.975]</th>  \n",
       "</tr>\n",
       "<tr>\n",
       "  <th>Intercept</th>                   <td> -348.9223</td> <td>   15.728</td> <td>  -22.185</td> <td> 0.000</td> <td> -380.045</td> <td> -317.800</td>\n",
       "</tr>\n",
       "<tr>\n",
       "  <th>np.exp(two_week_transit)</th>    <td>-2.912e+05</td> <td> 1.05e+05</td> <td>   -2.769</td> <td> 0.006</td> <td>-4.99e+05</td> <td>-8.31e+04</td>\n",
       "</tr>\n",
       "<tr>\n",
       "  <th>np.exp(two_week_workplaces)</th> <td> 7.625e+04</td> <td>  2.7e+04</td> <td>    2.824</td> <td> 0.006</td> <td> 2.28e+04</td> <td>  1.3e+05</td>\n",
       "</tr>\n",
       "<tr>\n",
       "  <th>two_week_str_index</th>          <td>    0.1562</td> <td>    0.077</td> <td>    2.038</td> <td> 0.044</td> <td>    0.005</td> <td>    0.308</td>\n",
       "</tr>\n",
       "<tr>\n",
       "  <th>rt</th>                          <td>   72.7816</td> <td>    4.185</td> <td>   17.392</td> <td> 0.000</td> <td>   64.500</td> <td>   81.063</td>\n",
       "</tr>\n",
       "<tr>\n",
       "  <th>log_two_week_cases</th>          <td>   67.3637</td> <td>    1.775</td> <td>   37.943</td> <td> 0.000</td> <td>   63.851</td> <td>   70.877</td>\n",
       "</tr>\n",
       "<tr>\n",
       "  <th>booster</th>                     <td>   -2.1610</td> <td>    0.065</td> <td>  -33.012</td> <td> 0.000</td> <td>   -2.291</td> <td>   -2.031</td>\n",
       "</tr>\n",
       "</table>\n",
       "<table class=\"simpletable\">\n",
       "<tr>\n",
       "  <th>Omnibus:</th>       <td> 1.921</td> <th>  Durbin-Watson:     </th> <td>   0.203</td>\n",
       "</tr>\n",
       "<tr>\n",
       "  <th>Prob(Omnibus):</th> <td> 0.383</td> <th>  Jarque-Bera (JB):  </th> <td>   1.512</td>\n",
       "</tr>\n",
       "<tr>\n",
       "  <th>Skew:</th>          <td>-0.068</td> <th>  Prob(JB):          </th> <td>   0.469</td>\n",
       "</tr>\n",
       "<tr>\n",
       "  <th>Kurtosis:</th>      <td> 2.498</td> <th>  Cond. No.          </th> <td>1.28e+07</td>\n",
       "</tr>\n",
       "</table><br/><br/>Notes:<br/>[1] Standard Errors assume that the covariance matrix of the errors is correctly specified.<br/>[2] The condition number is large, 1.28e+07. This might indicate that there are<br/>strong multicollinearity or other numerical problems."
      ],
      "text/plain": [
       "<class 'statsmodels.iolib.summary.Summary'>\n",
       "\"\"\"\n",
       "                            OLS Regression Results                            \n",
       "==============================================================================\n",
       "Dep. Variable:         hosp_admission   R-squared:                       0.955\n",
       "Model:                            OLS   Adj. R-squared:                  0.952\n",
       "Method:                 Least Squares   F-statistic:                     444.7\n",
       "Date:                Mon, 23 May 2022   Prob (F-statistic):           1.07e-82\n",
       "Time:                        01:03:38   Log-Likelihood:                -429.57\n",
       "No. Observations:                 134   AIC:                             873.1\n",
       "Df Residuals:                     127   BIC:                             893.4\n",
       "Df Model:                           6                                         \n",
       "Covariance Type:            nonrobust                                         \n",
       "===============================================================================================\n",
       "                                  coef    std err          t      P>|t|      [0.025      0.975]\n",
       "-----------------------------------------------------------------------------------------------\n",
       "Intercept                    -348.9223     15.728    -22.185      0.000    -380.045    -317.800\n",
       "np.exp(two_week_transit)    -2.912e+05   1.05e+05     -2.769      0.006   -4.99e+05   -8.31e+04\n",
       "np.exp(two_week_workplaces)  7.625e+04    2.7e+04      2.824      0.006    2.28e+04     1.3e+05\n",
       "two_week_str_index              0.1562      0.077      2.038      0.044       0.005       0.308\n",
       "rt                             72.7816      4.185     17.392      0.000      64.500      81.063\n",
       "log_two_week_cases             67.3637      1.775     37.943      0.000      63.851      70.877\n",
       "booster                        -2.1610      0.065    -33.012      0.000      -2.291      -2.031\n",
       "==============================================================================\n",
       "Omnibus:                        1.921   Durbin-Watson:                   0.203\n",
       "Prob(Omnibus):                  0.383   Jarque-Bera (JB):                1.512\n",
       "Skew:                          -0.068   Prob(JB):                        0.469\n",
       "Kurtosis:                       2.498   Cond. No.                     1.28e+07\n",
       "==============================================================================\n",
       "\n",
       "Notes:\n",
       "[1] Standard Errors assume that the covariance matrix of the errors is correctly specified.\n",
       "[2] The condition number is large, 1.28e+07. This might indicate that there are\n",
       "strong multicollinearity or other numerical problems.\n",
       "\"\"\""
      ]
     },
     "execution_count": 13,
     "metadata": {},
     "output_type": "execute_result"
    }
   ],
   "source": [
    "model = sm.OLS.from_formula(\"hosp_admission ~ np.exp(two_week_transit) + np.exp(two_week_workplaces) + two_week_str_index + rt + log_two_week_cases + booster\", training_set)\n",
    "result = model.fit()\n",
    "result.summary()"
   ]
  },
  {
   "cell_type": "code",
   "execution_count": 14,
   "id": "17360195",
   "metadata": {},
   "outputs": [
    {
     "name": "stdout",
     "output_type": "stream",
     "text": [
      "5.970154622814164\n",
      "16.902053318044022\n"
     ]
    }
   ],
   "source": [
    "print(RMSE(result.predict(training_set), training_set.iloc[:,1]))\n",
    "print(RMSE(result.predict(test_set), test_set.iloc[:,1]))"
   ]
  },
  {
   "cell_type": "code",
   "execution_count": 15,
   "id": "2dad66f6",
   "metadata": {},
   "outputs": [
    {
     "data": {
      "image/png": "[encoded data removed]",
      "text/plain": [
       "<Figure size 432x288 with 1 Axes>"
      ]
     },
     "metadata": {},
     "output_type": "display_data"
    }
   ],
   "source": [
    "plt.plot(result.predict(test_set), label = \"pred\")\n",
    "plt.plot(test_set.iloc[:,1], label = \"real\")\n",
    "plt.legend()\n",
    "plt.show()"
   ]
  },
  {
   "cell_type": "code",
   "execution_count": 16,
   "id": "be393425",
   "metadata": {},
   "outputs": [
    {
     "data": {
      "image/png": "[encoded data removed]",
      "text/plain": [
       "<Figure size 432x288 with 1 Axes>"
      ]
     },
     "metadata": {},
     "output_type": "display_data"
    }
   ],
   "source": [
    "plt.plot(result.predict(new_germany), label = \"pred\")\n",
    "plt.plot(new_germany['hosp_admission'], label = \"real\")\n",
    "plt.legend()\n",
    "plt.show()"
   ]
  },
  {
   "cell_type": "code",
   "execution_count": 17,
   "id": "e19b0d5c",
   "metadata": {},
   "outputs": [],
   "source": [
    "x_train = training_set.iloc[:,2:]\n",
    "y_train = training_set.iloc[:,1]\n",
    "x_test = test_set.iloc[:,2:]\n",
    "y_test = test_set.iloc[:,1]"
   ]
  },
  {
   "cell_type": "code",
   "execution_count": 79,
   "id": "2b9822f8",
   "metadata": {},
   "outputs": [
    {
     "name": "stdout",
     "output_type": "stream",
     "text": [
      "['log_two_week_cases', 'str_index', 'booster', 'two_week_workplaces']\n"
     ]
    }
   ],
   "source": [
    "lasso = Lasso(normalize=True) \n",
    "lasso.set_params(alpha = 0.3)\n",
    "lasso.fit(x_train, y_train)   \n",
    "coefs = lasso.coef_ \n",
    "print([elem for elem in x_train.columns[list(np.where(coefs != 0)[0])]])"
   ]
  },
  {
   "cell_type": "code",
   "execution_count": 80,
   "id": "c5464a67",
   "metadata": {},
   "outputs": [
    {
     "data": {
      "text/html": [
       "<table class=\"simpletable\">\n",
       "<caption>OLS Regression Results</caption>\n",
       "<tr>\n",
       "  <th>Dep. Variable:</th>     <td>hosp_admission</td>  <th>  R-squared:         </th> <td>   0.843</td>\n",
       "</tr>\n",
       "<tr>\n",
       "  <th>Model:</th>                   <td>OLS</td>       <th>  Adj. R-squared:    </th> <td>   0.839</td>\n",
       "</tr>\n",
       "<tr>\n",
       "  <th>Method:</th>             <td>Least Squares</td>  <th>  F-statistic:       </th> <td>   173.7</td>\n",
       "</tr>\n",
       "<tr>\n",
       "  <th>Date:</th>             <td>Mon, 23 May 2022</td> <th>  Prob (F-statistic):</th> <td>6.33e-51</td>\n",
       "</tr>\n",
       "<tr>\n",
       "  <th>Time:</th>                 <td>01:08:31</td>     <th>  Log-Likelihood:    </th> <td> -512.45</td>\n",
       "</tr>\n",
       "<tr>\n",
       "  <th>No. Observations:</th>      <td>   134</td>      <th>  AIC:               </th> <td>   1035.</td>\n",
       "</tr>\n",
       "<tr>\n",
       "  <th>Df Residuals:</th>          <td>   129</td>      <th>  BIC:               </th> <td>   1049.</td>\n",
       "</tr>\n",
       "<tr>\n",
       "  <th>Df Model:</th>              <td>     4</td>      <th>                     </th>     <td> </td>   \n",
       "</tr>\n",
       "<tr>\n",
       "  <th>Covariance Type:</th>      <td>nonrobust</td>    <th>                     </th>     <td> </td>   \n",
       "</tr>\n",
       "</table>\n",
       "<table class=\"simpletable\">\n",
       "<tr>\n",
       "           <td></td>              <th>coef</th>     <th>std err</th>      <th>t</th>      <th>P>|t|</th>  <th>[0.025</th>    <th>0.975]</th>  \n",
       "</tr>\n",
       "<tr>\n",
       "  <th>const</th>               <td> -137.6793</td> <td>   11.984</td> <td>  -11.489</td> <td> 0.000</td> <td> -161.389</td> <td> -113.970</td>\n",
       "</tr>\n",
       "<tr>\n",
       "  <th>log_two_week_cases</th>  <td>   42.7459</td> <td>    2.351</td> <td>   18.182</td> <td> 0.000</td> <td>   38.094</td> <td>   47.397</td>\n",
       "</tr>\n",
       "<tr>\n",
       "  <th>str_index</th>           <td>    0.3201</td> <td>    0.119</td> <td>    2.697</td> <td> 0.008</td> <td>    0.085</td> <td>    0.555</td>\n",
       "</tr>\n",
       "<tr>\n",
       "  <th>booster</th>             <td>   -1.2888</td> <td>    0.098</td> <td>  -13.102</td> <td> 0.000</td> <td>   -1.483</td> <td>   -1.094</td>\n",
       "</tr>\n",
       "<tr>\n",
       "  <th>two_week_workplaces</th> <td>    0.6799</td> <td>    0.132</td> <td>    5.164</td> <td> 0.000</td> <td>    0.419</td> <td>    0.940</td>\n",
       "</tr>\n",
       "</table>\n",
       "<table class=\"simpletable\">\n",
       "<tr>\n",
       "  <th>Omnibus:</th>       <td>16.011</td> <th>  Durbin-Watson:     </th> <td>   0.036</td>\n",
       "</tr>\n",
       "<tr>\n",
       "  <th>Prob(Omnibus):</th> <td> 0.000</td> <th>  Jarque-Bera (JB):  </th> <td>  18.975</td>\n",
       "</tr>\n",
       "<tr>\n",
       "  <th>Skew:</th>          <td>-0.922</td> <th>  Prob(JB):          </th> <td>7.58e-05</td>\n",
       "</tr>\n",
       "<tr>\n",
       "  <th>Kurtosis:</th>      <td> 2.971</td> <th>  Cond. No.          </th> <td>    826.</td>\n",
       "</tr>\n",
       "</table><br/><br/>Notes:<br/>[1] Standard Errors assume that the covariance matrix of the errors is correctly specified."
      ],
      "text/plain": [
       "<class 'statsmodels.iolib.summary.Summary'>\n",
       "\"\"\"\n",
       "                            OLS Regression Results                            \n",
       "==============================================================================\n",
       "Dep. Variable:         hosp_admission   R-squared:                       0.843\n",
       "Model:                            OLS   Adj. R-squared:                  0.839\n",
       "Method:                 Least Squares   F-statistic:                     173.7\n",
       "Date:                Mon, 23 May 2022   Prob (F-statistic):           6.33e-51\n",
       "Time:                        01:08:31   Log-Likelihood:                -512.45\n",
       "No. Observations:                 134   AIC:                             1035.\n",
       "Df Residuals:                     129   BIC:                             1049.\n",
       "Df Model:                           4                                         \n",
       "Covariance Type:            nonrobust                                         \n",
       "=======================================================================================\n",
       "                          coef    std err          t      P>|t|      [0.025      0.975]\n",
       "---------------------------------------------------------------------------------------\n",
       "const                -137.6793     11.984    -11.489      0.000    -161.389    -113.970\n",
       "log_two_week_cases     42.7459      2.351     18.182      0.000      38.094      47.397\n",
       "str_index               0.3201      0.119      2.697      0.008       0.085       0.555\n",
       "booster                -1.2888      0.098    -13.102      0.000      -1.483      -1.094\n",
       "two_week_workplaces     0.6799      0.132      5.164      0.000       0.419       0.940\n",
       "==============================================================================\n",
       "Omnibus:                       16.011   Durbin-Watson:                   0.036\n",
       "Prob(Omnibus):                  0.000   Jarque-Bera (JB):               18.975\n",
       "Skew:                          -0.922   Prob(JB):                     7.58e-05\n",
       "Kurtosis:                       2.971   Cond. No.                         826.\n",
       "==============================================================================\n",
       "\n",
       "Notes:\n",
       "[1] Standard Errors assume that the covariance matrix of the errors is correctly specified.\n",
       "\"\"\""
      ]
     },
     "execution_count": 80,
     "metadata": {},
     "output_type": "execute_result"
    }
   ],
   "source": [
    "x_train_red = x_train.iloc[:,list(np.where(coefs != 0)[0])]\n",
    "x_test_red = x_test.iloc[:,list(np.where(coefs != 0)[0])]\n",
    "x_train_red = sm.add_constant(x_train_red)\n",
    "x_test_red = sm.add_constant(x_test_red)\n",
    "reg_model = sm.OLS(y_train, x_train_red)\n",
    "results = reg_model.fit()\n",
    "results.summary()"
   ]
  },
  {
   "cell_type": "code",
   "execution_count": 81,
   "id": "d4dade87",
   "metadata": {},
   "outputs": [
    {
     "name": "stdout",
     "output_type": "stream",
     "text": [
      "11.082204176043716\n",
      "16.55575748324016\n"
     ]
    }
   ],
   "source": [
    "print(RMSE(results.predict(x_train_red), y_train))\n",
    "print(RMSE(results.predict(x_test_red), y_test))"
   ]
  },
  {
   "cell_type": "code",
   "execution_count": 82,
   "id": "06cee20f",
   "metadata": {},
   "outputs": [
    {
     "data": {
      "image/png": "[encoded data removed]",
      "text/plain": [
       "<Figure size 432x288 with 1 Axes>"
      ]
     },
     "metadata": {},
     "output_type": "display_data"
    }
   ],
   "source": [
    "plt.plot(results.predict(pd.concat([x_train_red, x_test_red])), label = \"pred\")\n",
    "plt.plot(pd.concat([y_train, y_test]), label = \"real\")\n",
    "plt.legend()\n",
    "plt.show()"
   ]
  },
  {
   "cell_type": "code",
   "execution_count": null,
   "id": "0648235a",
   "metadata": {},
   "outputs": [],
   "source": []
  }
 ],
 "metadata": {
  "kernelspec": {
   "display_name": "Python 3 (ipykernel)",
   "language": "python",
   "name": "python3"
  },
  "language_info": {
   "codemirror_mode": {
    "name": "ipython",
    "version": 3
   },
   "file_extension": ".py",
   "mimetype": "text/x-python",
   "name": "python",
   "nbconvert_exporter": "python",
   "pygments_lexer": "ipython3",
   "version": "3.9.10"
  }
 },
 "nbformat": 4,
 "nbformat_minor": 5
}
